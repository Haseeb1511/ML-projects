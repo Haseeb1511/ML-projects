{
 "cells": [
  {
   "cell_type": "markdown",
   "id": "a92f96d2-23af-4652-b8bd-7f41988bc821",
   "metadata": {},
   "source": [
    "# Importing Libraries"
   ]
  },
  {
   "cell_type": "code",
   "execution_count": 1,
   "id": "24493530-6fc9-4098-9934-8fd0a040290f",
   "metadata": {},
   "outputs": [],
   "source": [
    "import numpy as np\n",
    "import pandas as pd\n",
    "import matplotlib.pyplot as plt\n",
    "import seaborn as sns\n",
    "\n",
    "from sklearn.model_selection import train_test_split\n",
    "from sklearn.metrics import accuracy_score\n",
    "\n",
    "import warnings\n",
    "warnings.filterwarnings(\"ignore\")"
   ]
  },
  {
   "cell_type": "markdown",
   "id": "c3fab8a9-4b2c-46aa-a553-d2494a46b593",
   "metadata": {},
   "source": [
    "# Importing Data"
   ]
  },
  {
   "cell_type": "code",
   "execution_count": 47,
   "id": "aabd7d82-50ac-480c-95c7-98659e3ff888",
   "metadata": {},
   "outputs": [],
   "source": [
    "book=pd.read_csv(\"Books.csv\")\n",
    "rating=pd.read_csv(\"Ratings.csv\")\n",
    "user=pd.read_csv(\"Users.csv\")"
   ]
  },
  {
   "cell_type": "code",
   "execution_count": 93,
   "id": "4ae7021f-598f-4523-95f7-eedf76048ce3",
   "metadata": {},
   "outputs": [
    {
     "data": {
      "text/html": [
       "<div>\n",
       "<style scoped>\n",
       "    .dataframe tbody tr th:only-of-type {\n",
       "        vertical-align: middle;\n",
       "    }\n",
       "\n",
       "    .dataframe tbody tr th {\n",
       "        vertical-align: top;\n",
       "    }\n",
       "\n",
       "    .dataframe thead th {\n",
       "        text-align: right;\n",
       "    }\n",
       "</style>\n",
       "<table border=\"1\" class=\"dataframe\">\n",
       "  <thead>\n",
       "    <tr style=\"text-align: right;\">\n",
       "      <th></th>\n",
       "      <th>ISBN</th>\n",
       "      <th>Book-Title</th>\n",
       "      <th>Book-Author</th>\n",
       "      <th>Year-Of-Publication</th>\n",
       "      <th>Publisher</th>\n",
       "      <th>Image-URL-S</th>\n",
       "      <th>Image-URL-M</th>\n",
       "      <th>Image-URL-L</th>\n",
       "    </tr>\n",
       "  </thead>\n",
       "  <tbody>\n",
       "    <tr>\n",
       "      <th>0</th>\n",
       "      <td>0195153448</td>\n",
       "      <td>Classical Mythology</td>\n",
       "      <td>Mark P. O. Morford</td>\n",
       "      <td>2002</td>\n",
       "      <td>Oxford University Press</td>\n",
       "      <td>http://images.amazon.com/images/P/0195153448.0...</td>\n",
       "      <td>http://images.amazon.com/images/P/0195153448.0...</td>\n",
       "      <td>http://images.amazon.com/images/P/0195153448.0...</td>\n",
       "    </tr>\n",
       "    <tr>\n",
       "      <th>1</th>\n",
       "      <td>0002005018</td>\n",
       "      <td>Clara Callan</td>\n",
       "      <td>Richard Bruce Wright</td>\n",
       "      <td>2001</td>\n",
       "      <td>HarperFlamingo Canada</td>\n",
       "      <td>http://images.amazon.com/images/P/0002005018.0...</td>\n",
       "      <td>http://images.amazon.com/images/P/0002005018.0...</td>\n",
       "      <td>http://images.amazon.com/images/P/0002005018.0...</td>\n",
       "    </tr>\n",
       "  </tbody>\n",
       "</table>\n",
       "</div>"
      ],
      "text/plain": [
       "         ISBN           Book-Title           Book-Author Year-Of-Publication  \\\n",
       "0  0195153448  Classical Mythology    Mark P. O. Morford                2002   \n",
       "1  0002005018         Clara Callan  Richard Bruce Wright                2001   \n",
       "\n",
       "                 Publisher                                        Image-URL-S  \\\n",
       "0  Oxford University Press  http://images.amazon.com/images/P/0195153448.0...   \n",
       "1    HarperFlamingo Canada  http://images.amazon.com/images/P/0002005018.0...   \n",
       "\n",
       "                                         Image-URL-M  \\\n",
       "0  http://images.amazon.com/images/P/0195153448.0...   \n",
       "1  http://images.amazon.com/images/P/0002005018.0...   \n",
       "\n",
       "                                         Image-URL-L  \n",
       "0  http://images.amazon.com/images/P/0195153448.0...  \n",
       "1  http://images.amazon.com/images/P/0002005018.0...  "
      ]
     },
     "execution_count": 93,
     "metadata": {},
     "output_type": "execute_result"
    }
   ],
   "source": [
    "book.head(2)"
   ]
  },
  {
   "cell_type": "code",
   "execution_count": 49,
   "id": "7e3f9745-bfe2-474d-a5ae-4597fe2ae099",
   "metadata": {},
   "outputs": [
    {
     "data": {
      "text/html": [
       "<div>\n",
       "<style scoped>\n",
       "    .dataframe tbody tr th:only-of-type {\n",
       "        vertical-align: middle;\n",
       "    }\n",
       "\n",
       "    .dataframe tbody tr th {\n",
       "        vertical-align: top;\n",
       "    }\n",
       "\n",
       "    .dataframe thead th {\n",
       "        text-align: right;\n",
       "    }\n",
       "</style>\n",
       "<table border=\"1\" class=\"dataframe\">\n",
       "  <thead>\n",
       "    <tr style=\"text-align: right;\">\n",
       "      <th></th>\n",
       "      <th>User-ID</th>\n",
       "      <th>ISBN</th>\n",
       "      <th>Book-Rating</th>\n",
       "    </tr>\n",
       "  </thead>\n",
       "  <tbody>\n",
       "    <tr>\n",
       "      <th>0</th>\n",
       "      <td>276725</td>\n",
       "      <td>034545104X</td>\n",
       "      <td>0</td>\n",
       "    </tr>\n",
       "    <tr>\n",
       "      <th>1</th>\n",
       "      <td>276726</td>\n",
       "      <td>0155061224</td>\n",
       "      <td>5</td>\n",
       "    </tr>\n",
       "  </tbody>\n",
       "</table>\n",
       "</div>"
      ],
      "text/plain": [
       "   User-ID        ISBN  Book-Rating\n",
       "0   276725  034545104X            0\n",
       "1   276726  0155061224            5"
      ]
     },
     "execution_count": 49,
     "metadata": {},
     "output_type": "execute_result"
    }
   ],
   "source": [
    "rating.head(2)"
   ]
  },
  {
   "cell_type": "code",
   "execution_count": 50,
   "id": "f6027f97-aa47-4791-8c72-d03e4821221f",
   "metadata": {},
   "outputs": [
    {
     "data": {
      "text/html": [
       "<div>\n",
       "<style scoped>\n",
       "    .dataframe tbody tr th:only-of-type {\n",
       "        vertical-align: middle;\n",
       "    }\n",
       "\n",
       "    .dataframe tbody tr th {\n",
       "        vertical-align: top;\n",
       "    }\n",
       "\n",
       "    .dataframe thead th {\n",
       "        text-align: right;\n",
       "    }\n",
       "</style>\n",
       "<table border=\"1\" class=\"dataframe\">\n",
       "  <thead>\n",
       "    <tr style=\"text-align: right;\">\n",
       "      <th></th>\n",
       "      <th>User-ID</th>\n",
       "      <th>Location</th>\n",
       "      <th>Age</th>\n",
       "    </tr>\n",
       "  </thead>\n",
       "  <tbody>\n",
       "    <tr>\n",
       "      <th>0</th>\n",
       "      <td>1</td>\n",
       "      <td>nyc, new york, usa</td>\n",
       "      <td>NaN</td>\n",
       "    </tr>\n",
       "    <tr>\n",
       "      <th>1</th>\n",
       "      <td>2</td>\n",
       "      <td>stockton, california, usa</td>\n",
       "      <td>18.0</td>\n",
       "    </tr>\n",
       "  </tbody>\n",
       "</table>\n",
       "</div>"
      ],
      "text/plain": [
       "   User-ID                   Location   Age\n",
       "0        1         nyc, new york, usa   NaN\n",
       "1        2  stockton, california, usa  18.0"
      ]
     },
     "execution_count": 50,
     "metadata": {},
     "output_type": "execute_result"
    }
   ],
   "source": [
    "user.head(2)"
   ]
  },
  {
   "cell_type": "code",
   "execution_count": 51,
   "id": "82e59a14-c732-4fac-bddb-2f1448dd9ba3",
   "metadata": {},
   "outputs": [
    {
     "name": "stdout",
     "output_type": "stream",
     "text": [
      "(271360, 8) (1149780, 3) (278858, 3)\n"
     ]
    }
   ],
   "source": [
    "print(book.shape,rating.shape,user.shape)"
   ]
  },
  {
   "cell_type": "code",
   "execution_count": 52,
   "id": "405e26a0-21b0-4629-9a63-d98a273fdcfd",
   "metadata": {},
   "outputs": [
    {
     "data": {
      "text/plain": [
       "User-ID        0\n",
       "ISBN           0\n",
       "Book-Rating    0\n",
       "dtype: int64"
      ]
     },
     "execution_count": 52,
     "metadata": {},
     "output_type": "execute_result"
    }
   ],
   "source": [
    "rating.isna().sum()"
   ]
  },
  {
   "cell_type": "code",
   "execution_count": 53,
   "id": "a887485f-a7f0-4421-ae60-28b49daab4f7",
   "metadata": {},
   "outputs": [
    {
     "data": {
      "text/plain": [
       "User-ID          0\n",
       "Location         0\n",
       "Age         110762\n",
       "dtype: int64"
      ]
     },
     "execution_count": 53,
     "metadata": {},
     "output_type": "execute_result"
    }
   ],
   "source": [
    "user.isna().sum()"
   ]
  },
  {
   "cell_type": "code",
   "execution_count": 54,
   "id": "d3c7285b-a422-4234-8815-cee14063c5aa",
   "metadata": {},
   "outputs": [
    {
     "data": {
      "text/plain": [
       "ISBN                   0\n",
       "Book-Title             0\n",
       "Book-Author            2\n",
       "Year-Of-Publication    0\n",
       "Publisher              2\n",
       "Image-URL-S            0\n",
       "Image-URL-M            0\n",
       "Image-URL-L            3\n",
       "dtype: int64"
      ]
     },
     "execution_count": 54,
     "metadata": {},
     "output_type": "execute_result"
    }
   ],
   "source": [
    "book.isna().sum()"
   ]
  },
  {
   "cell_type": "code",
   "execution_count": 55,
   "id": "173b28e8-2055-4e3b-8db1-6d373d3173ba",
   "metadata": {},
   "outputs": [
    {
     "data": {
      "text/plain": [
       "np.int64(0)"
      ]
     },
     "execution_count": 55,
     "metadata": {},
     "output_type": "execute_result"
    }
   ],
   "source": [
    "book.duplicated().sum()"
   ]
  },
  {
   "cell_type": "code",
   "execution_count": 56,
   "id": "60e961e3-6294-46cf-96b6-df583abf507a",
   "metadata": {},
   "outputs": [
    {
     "data": {
      "text/plain": [
       "np.int64(0)"
      ]
     },
     "execution_count": 56,
     "metadata": {},
     "output_type": "execute_result"
    }
   ],
   "source": [
    "rating.duplicated().sum()"
   ]
  },
  {
   "cell_type": "code",
   "execution_count": 57,
   "id": "011d5a3a-3607-4f39-8ef1-90e1c10ad03c",
   "metadata": {},
   "outputs": [
    {
     "data": {
      "text/plain": [
       "np.int64(0)"
      ]
     },
     "execution_count": 57,
     "metadata": {},
     "output_type": "execute_result"
    }
   ],
   "source": [
    "user.duplicated().sum()"
   ]
  },
  {
   "cell_type": "markdown",
   "id": "706c402e-958d-4573-99af-92f649729619",
   "metadata": {},
   "source": [
    "# Exploratiory Data Analysis"
   ]
  },
  {
   "cell_type": "code",
   "execution_count": 58,
   "id": "aa9529b4-e40c-4502-9a92-27449a3ce8f4",
   "metadata": {},
   "outputs": [
    {
     "data": {
      "text/html": [
       "<div>\n",
       "<style scoped>\n",
       "    .dataframe tbody tr th:only-of-type {\n",
       "        vertical-align: middle;\n",
       "    }\n",
       "\n",
       "    .dataframe tbody tr th {\n",
       "        vertical-align: top;\n",
       "    }\n",
       "\n",
       "    .dataframe thead th {\n",
       "        text-align: right;\n",
       "    }\n",
       "</style>\n",
       "<table border=\"1\" class=\"dataframe\">\n",
       "  <thead>\n",
       "    <tr style=\"text-align: right;\">\n",
       "      <th></th>\n",
       "      <th>ISBN</th>\n",
       "      <th>Book-Title</th>\n",
       "      <th>Book-Author</th>\n",
       "      <th>Year-Of-Publication</th>\n",
       "      <th>Publisher</th>\n",
       "      <th>Image-URL-S</th>\n",
       "      <th>Image-URL-M</th>\n",
       "      <th>Image-URL-L</th>\n",
       "    </tr>\n",
       "  </thead>\n",
       "  <tbody>\n",
       "    <tr>\n",
       "      <th>0</th>\n",
       "      <td>0195153448</td>\n",
       "      <td>Classical Mythology</td>\n",
       "      <td>Mark P. O. Morford</td>\n",
       "      <td>2002</td>\n",
       "      <td>Oxford University Press</td>\n",
       "      <td>http://images.amazon.com/images/P/0195153448.0...</td>\n",
       "      <td>http://images.amazon.com/images/P/0195153448.0...</td>\n",
       "      <td>http://images.amazon.com/images/P/0195153448.0...</td>\n",
       "    </tr>\n",
       "    <tr>\n",
       "      <th>1</th>\n",
       "      <td>0002005018</td>\n",
       "      <td>Clara Callan</td>\n",
       "      <td>Richard Bruce Wright</td>\n",
       "      <td>2001</td>\n",
       "      <td>HarperFlamingo Canada</td>\n",
       "      <td>http://images.amazon.com/images/P/0002005018.0...</td>\n",
       "      <td>http://images.amazon.com/images/P/0002005018.0...</td>\n",
       "      <td>http://images.amazon.com/images/P/0002005018.0...</td>\n",
       "    </tr>\n",
       "  </tbody>\n",
       "</table>\n",
       "</div>"
      ],
      "text/plain": [
       "         ISBN           Book-Title           Book-Author Year-Of-Publication  \\\n",
       "0  0195153448  Classical Mythology    Mark P. O. Morford                2002   \n",
       "1  0002005018         Clara Callan  Richard Bruce Wright                2001   \n",
       "\n",
       "                 Publisher                                        Image-URL-S  \\\n",
       "0  Oxford University Press  http://images.amazon.com/images/P/0195153448.0...   \n",
       "1    HarperFlamingo Canada  http://images.amazon.com/images/P/0002005018.0...   \n",
       "\n",
       "                                         Image-URL-M  \\\n",
       "0  http://images.amazon.com/images/P/0195153448.0...   \n",
       "1  http://images.amazon.com/images/P/0002005018.0...   \n",
       "\n",
       "                                         Image-URL-L  \n",
       "0  http://images.amazon.com/images/P/0195153448.0...  \n",
       "1  http://images.amazon.com/images/P/0002005018.0...  "
      ]
     },
     "execution_count": 58,
     "metadata": {},
     "output_type": "execute_result"
    }
   ],
   "source": [
    "book.head(2)"
   ]
  },
  {
   "cell_type": "code",
   "execution_count": 59,
   "id": "beb745bb-0de6-45c1-a1be-ef4ac0583bd2",
   "metadata": {},
   "outputs": [
    {
     "data": {
      "text/plain": [
       "Year-Of-Publication\n",
       "2002    13903\n",
       "2001    13715\n",
       "1999    13414\n",
       "2000    13373\n",
       "1998    12116\n",
       "        ...  \n",
       "1897        1\n",
       "2024        1\n",
       "1376        1\n",
       "1926        1\n",
       "2037        1\n",
       "Name: count, Length: 202, dtype: int64"
      ]
     },
     "execution_count": 59,
     "metadata": {},
     "output_type": "execute_result"
    }
   ],
   "source": [
    "book[\"Year-Of-Publication\"].value_counts(ascending=False)"
   ]
  },
  {
   "cell_type": "code",
   "execution_count": 60,
   "id": "80c32dfa-dbaa-4b3c-8d36-955b305d2351",
   "metadata": {},
   "outputs": [
    {
     "data": {
      "text/html": [
       "<div>\n",
       "<style scoped>\n",
       "    .dataframe tbody tr th:only-of-type {\n",
       "        vertical-align: middle;\n",
       "    }\n",
       "\n",
       "    .dataframe tbody tr th {\n",
       "        vertical-align: top;\n",
       "    }\n",
       "\n",
       "    .dataframe thead th {\n",
       "        text-align: right;\n",
       "    }\n",
       "</style>\n",
       "<table border=\"1\" class=\"dataframe\">\n",
       "  <thead>\n",
       "    <tr style=\"text-align: right;\">\n",
       "      <th></th>\n",
       "      <th>User-ID</th>\n",
       "      <th>ISBN</th>\n",
       "      <th>Book-Rating</th>\n",
       "    </tr>\n",
       "  </thead>\n",
       "  <tbody>\n",
       "    <tr>\n",
       "      <th>0</th>\n",
       "      <td>276725</td>\n",
       "      <td>034545104X</td>\n",
       "      <td>0</td>\n",
       "    </tr>\n",
       "    <tr>\n",
       "      <th>1</th>\n",
       "      <td>276726</td>\n",
       "      <td>0155061224</td>\n",
       "      <td>5</td>\n",
       "    </tr>\n",
       "    <tr>\n",
       "      <th>2</th>\n",
       "      <td>276727</td>\n",
       "      <td>0446520802</td>\n",
       "      <td>0</td>\n",
       "    </tr>\n",
       "    <tr>\n",
       "      <th>3</th>\n",
       "      <td>276729</td>\n",
       "      <td>052165615X</td>\n",
       "      <td>3</td>\n",
       "    </tr>\n",
       "    <tr>\n",
       "      <th>4</th>\n",
       "      <td>276729</td>\n",
       "      <td>0521795028</td>\n",
       "      <td>6</td>\n",
       "    </tr>\n",
       "  </tbody>\n",
       "</table>\n",
       "</div>"
      ],
      "text/plain": [
       "   User-ID        ISBN  Book-Rating\n",
       "0   276725  034545104X            0\n",
       "1   276726  0155061224            5\n",
       "2   276727  0446520802            0\n",
       "3   276729  052165615X            3\n",
       "4   276729  0521795028            6"
      ]
     },
     "execution_count": 60,
     "metadata": {},
     "output_type": "execute_result"
    }
   ],
   "source": [
    "rating.head()"
   ]
  },
  {
   "cell_type": "code",
   "execution_count": 61,
   "id": "59fe941b-0f4d-451a-b1a8-2a0eeffe343e",
   "metadata": {},
   "outputs": [
    {
     "data": {
      "text/plain": [
       "np.int64(9)"
      ]
     },
     "execution_count": 61,
     "metadata": {},
     "output_type": "execute_result"
    }
   ],
   "source": [
    "rating[\"Book-Rating\"].argmax()"
   ]
  },
  {
   "cell_type": "code",
   "execution_count": null,
   "id": "d6dc8a63-3c24-49d8-bd03-6a7fca49a1c2",
   "metadata": {},
   "outputs": [],
   "source": []
  },
  {
   "cell_type": "code",
   "execution_count": 62,
   "id": "1e0c16e9-7d19-48eb-b97a-2f978383f830",
   "metadata": {},
   "outputs": [
    {
     "data": {
      "text/html": [
       "<div>\n",
       "<style scoped>\n",
       "    .dataframe tbody tr th:only-of-type {\n",
       "        vertical-align: middle;\n",
       "    }\n",
       "\n",
       "    .dataframe tbody tr th {\n",
       "        vertical-align: top;\n",
       "    }\n",
       "\n",
       "    .dataframe thead th {\n",
       "        text-align: right;\n",
       "    }\n",
       "</style>\n",
       "<table border=\"1\" class=\"dataframe\">\n",
       "  <thead>\n",
       "    <tr style=\"text-align: right;\">\n",
       "      <th></th>\n",
       "      <th>User-ID</th>\n",
       "      <th>Location</th>\n",
       "      <th>Age</th>\n",
       "    </tr>\n",
       "  </thead>\n",
       "  <tbody>\n",
       "    <tr>\n",
       "      <th>0</th>\n",
       "      <td>1</td>\n",
       "      <td>nyc, new york, usa</td>\n",
       "      <td>NaN</td>\n",
       "    </tr>\n",
       "    <tr>\n",
       "      <th>1</th>\n",
       "      <td>2</td>\n",
       "      <td>stockton, california, usa</td>\n",
       "      <td>18.0</td>\n",
       "    </tr>\n",
       "    <tr>\n",
       "      <th>2</th>\n",
       "      <td>3</td>\n",
       "      <td>moscow, yukon territory, russia</td>\n",
       "      <td>NaN</td>\n",
       "    </tr>\n",
       "    <tr>\n",
       "      <th>3</th>\n",
       "      <td>4</td>\n",
       "      <td>porto, v.n.gaia, portugal</td>\n",
       "      <td>17.0</td>\n",
       "    </tr>\n",
       "    <tr>\n",
       "      <th>4</th>\n",
       "      <td>5</td>\n",
       "      <td>farnborough, hants, united kingdom</td>\n",
       "      <td>NaN</td>\n",
       "    </tr>\n",
       "  </tbody>\n",
       "</table>\n",
       "</div>"
      ],
      "text/plain": [
       "   User-ID                            Location   Age\n",
       "0        1                  nyc, new york, usa   NaN\n",
       "1        2           stockton, california, usa  18.0\n",
       "2        3     moscow, yukon territory, russia   NaN\n",
       "3        4           porto, v.n.gaia, portugal  17.0\n",
       "4        5  farnborough, hants, united kingdom   NaN"
      ]
     },
     "execution_count": 62,
     "metadata": {},
     "output_type": "execute_result"
    }
   ],
   "source": [
    "user.head()"
   ]
  },
  {
   "cell_type": "code",
   "execution_count": 63,
   "id": "bf202f26-b1c7-4f58-8821-c88dc2c47fa3",
   "metadata": {},
   "outputs": [
    {
     "data": {
      "text/plain": [
       "np.float64(34.75143370454978)"
      ]
     },
     "execution_count": 63,
     "metadata": {},
     "output_type": "execute_result"
    }
   ],
   "source": [
    "user[\"Age\"].mean().sum()"
   ]
  },
  {
   "cell_type": "code",
   "execution_count": null,
   "id": "68cc4b1c-5cf9-4e7f-9ebe-a8ac168cbc52",
   "metadata": {},
   "outputs": [],
   "source": []
  },
  {
   "cell_type": "markdown",
   "id": "a94861c2-ee98-456c-a100-84cb86b2376b",
   "metadata": {},
   "source": [
    "# Model Building"
   ]
  },
  {
   "cell_type": "code",
   "execution_count": 64,
   "id": "f703eced-02dd-436e-bd8d-95592004065c",
   "metadata": {},
   "outputs": [
    {
     "data": {
      "text/html": [
       "<div>\n",
       "<style scoped>\n",
       "    .dataframe tbody tr th:only-of-type {\n",
       "        vertical-align: middle;\n",
       "    }\n",
       "\n",
       "    .dataframe tbody tr th {\n",
       "        vertical-align: top;\n",
       "    }\n",
       "\n",
       "    .dataframe thead th {\n",
       "        text-align: right;\n",
       "    }\n",
       "</style>\n",
       "<table border=\"1\" class=\"dataframe\">\n",
       "  <thead>\n",
       "    <tr style=\"text-align: right;\">\n",
       "      <th></th>\n",
       "      <th>User-ID</th>\n",
       "      <th>ISBN</th>\n",
       "      <th>Book-Rating</th>\n",
       "    </tr>\n",
       "  </thead>\n",
       "  <tbody>\n",
       "    <tr>\n",
       "      <th>0</th>\n",
       "      <td>276725</td>\n",
       "      <td>034545104X</td>\n",
       "      <td>0</td>\n",
       "    </tr>\n",
       "    <tr>\n",
       "      <th>1</th>\n",
       "      <td>276726</td>\n",
       "      <td>0155061224</td>\n",
       "      <td>5</td>\n",
       "    </tr>\n",
       "    <tr>\n",
       "      <th>2</th>\n",
       "      <td>276727</td>\n",
       "      <td>0446520802</td>\n",
       "      <td>0</td>\n",
       "    </tr>\n",
       "    <tr>\n",
       "      <th>3</th>\n",
       "      <td>276729</td>\n",
       "      <td>052165615X</td>\n",
       "      <td>3</td>\n",
       "    </tr>\n",
       "    <tr>\n",
       "      <th>4</th>\n",
       "      <td>276729</td>\n",
       "      <td>0521795028</td>\n",
       "      <td>6</td>\n",
       "    </tr>\n",
       "  </tbody>\n",
       "</table>\n",
       "</div>"
      ],
      "text/plain": [
       "   User-ID        ISBN  Book-Rating\n",
       "0   276725  034545104X            0\n",
       "1   276726  0155061224            5\n",
       "2   276727  0446520802            0\n",
       "3   276729  052165615X            3\n",
       "4   276729  0521795028            6"
      ]
     },
     "execution_count": 64,
     "metadata": {},
     "output_type": "execute_result"
    }
   ],
   "source": [
    "rating.head()"
   ]
  },
  {
   "cell_type": "code",
   "execution_count": 65,
   "id": "2dbe8ad3-6711-4335-af37-f34adecc8a66",
   "metadata": {},
   "outputs": [],
   "source": [
    "data=rating.merge(book,on=\"ISBN\")"
   ]
  },
  {
   "cell_type": "code",
   "execution_count": 66,
   "id": "fe0bac65-27e1-407a-b9f4-49a01c5a2c09",
   "metadata": {},
   "outputs": [
    {
     "data": {
      "text/html": [
       "<div>\n",
       "<style scoped>\n",
       "    .dataframe tbody tr th:only-of-type {\n",
       "        vertical-align: middle;\n",
       "    }\n",
       "\n",
       "    .dataframe tbody tr th {\n",
       "        vertical-align: top;\n",
       "    }\n",
       "\n",
       "    .dataframe thead th {\n",
       "        text-align: right;\n",
       "    }\n",
       "</style>\n",
       "<table border=\"1\" class=\"dataframe\">\n",
       "  <thead>\n",
       "    <tr style=\"text-align: right;\">\n",
       "      <th></th>\n",
       "      <th>User-ID</th>\n",
       "      <th>ISBN</th>\n",
       "      <th>Book-Rating</th>\n",
       "      <th>Book-Title</th>\n",
       "      <th>Book-Author</th>\n",
       "      <th>Year-Of-Publication</th>\n",
       "      <th>Publisher</th>\n",
       "      <th>Image-URL-S</th>\n",
       "      <th>Image-URL-M</th>\n",
       "      <th>Image-URL-L</th>\n",
       "    </tr>\n",
       "  </thead>\n",
       "  <tbody>\n",
       "    <tr>\n",
       "      <th>0</th>\n",
       "      <td>276725</td>\n",
       "      <td>034545104X</td>\n",
       "      <td>0</td>\n",
       "      <td>Flesh Tones: A Novel</td>\n",
       "      <td>M. J. Rose</td>\n",
       "      <td>2002</td>\n",
       "      <td>Ballantine Books</td>\n",
       "      <td>http://images.amazon.com/images/P/034545104X.0...</td>\n",
       "      <td>http://images.amazon.com/images/P/034545104X.0...</td>\n",
       "      <td>http://images.amazon.com/images/P/034545104X.0...</td>\n",
       "    </tr>\n",
       "    <tr>\n",
       "      <th>1</th>\n",
       "      <td>276726</td>\n",
       "      <td>0155061224</td>\n",
       "      <td>5</td>\n",
       "      <td>Rites of Passage</td>\n",
       "      <td>Judith Rae</td>\n",
       "      <td>2001</td>\n",
       "      <td>Heinle</td>\n",
       "      <td>http://images.amazon.com/images/P/0155061224.0...</td>\n",
       "      <td>http://images.amazon.com/images/P/0155061224.0...</td>\n",
       "      <td>http://images.amazon.com/images/P/0155061224.0...</td>\n",
       "    </tr>\n",
       "    <tr>\n",
       "      <th>2</th>\n",
       "      <td>276727</td>\n",
       "      <td>0446520802</td>\n",
       "      <td>0</td>\n",
       "      <td>The Notebook</td>\n",
       "      <td>Nicholas Sparks</td>\n",
       "      <td>1996</td>\n",
       "      <td>Warner Books</td>\n",
       "      <td>http://images.amazon.com/images/P/0446520802.0...</td>\n",
       "      <td>http://images.amazon.com/images/P/0446520802.0...</td>\n",
       "      <td>http://images.amazon.com/images/P/0446520802.0...</td>\n",
       "    </tr>\n",
       "    <tr>\n",
       "      <th>3</th>\n",
       "      <td>276729</td>\n",
       "      <td>052165615X</td>\n",
       "      <td>3</td>\n",
       "      <td>Help!: Level 1</td>\n",
       "      <td>Philip Prowse</td>\n",
       "      <td>1999</td>\n",
       "      <td>Cambridge University Press</td>\n",
       "      <td>http://images.amazon.com/images/P/052165615X.0...</td>\n",
       "      <td>http://images.amazon.com/images/P/052165615X.0...</td>\n",
       "      <td>http://images.amazon.com/images/P/052165615X.0...</td>\n",
       "    </tr>\n",
       "    <tr>\n",
       "      <th>4</th>\n",
       "      <td>276729</td>\n",
       "      <td>0521795028</td>\n",
       "      <td>6</td>\n",
       "      <td>The Amsterdam Connection : Level 4 (Cambridge ...</td>\n",
       "      <td>Sue Leather</td>\n",
       "      <td>2001</td>\n",
       "      <td>Cambridge University Press</td>\n",
       "      <td>http://images.amazon.com/images/P/0521795028.0...</td>\n",
       "      <td>http://images.amazon.com/images/P/0521795028.0...</td>\n",
       "      <td>http://images.amazon.com/images/P/0521795028.0...</td>\n",
       "    </tr>\n",
       "  </tbody>\n",
       "</table>\n",
       "</div>"
      ],
      "text/plain": [
       "   User-ID        ISBN  Book-Rating  \\\n",
       "0   276725  034545104X            0   \n",
       "1   276726  0155061224            5   \n",
       "2   276727  0446520802            0   \n",
       "3   276729  052165615X            3   \n",
       "4   276729  0521795028            6   \n",
       "\n",
       "                                          Book-Title      Book-Author  \\\n",
       "0                               Flesh Tones: A Novel       M. J. Rose   \n",
       "1                                   Rites of Passage       Judith Rae   \n",
       "2                                       The Notebook  Nicholas Sparks   \n",
       "3                                     Help!: Level 1    Philip Prowse   \n",
       "4  The Amsterdam Connection : Level 4 (Cambridge ...      Sue Leather   \n",
       "\n",
       "  Year-Of-Publication                   Publisher  \\\n",
       "0                2002            Ballantine Books   \n",
       "1                2001                      Heinle   \n",
       "2                1996                Warner Books   \n",
       "3                1999  Cambridge University Press   \n",
       "4                2001  Cambridge University Press   \n",
       "\n",
       "                                         Image-URL-S  \\\n",
       "0  http://images.amazon.com/images/P/034545104X.0...   \n",
       "1  http://images.amazon.com/images/P/0155061224.0...   \n",
       "2  http://images.amazon.com/images/P/0446520802.0...   \n",
       "3  http://images.amazon.com/images/P/052165615X.0...   \n",
       "4  http://images.amazon.com/images/P/0521795028.0...   \n",
       "\n",
       "                                         Image-URL-M  \\\n",
       "0  http://images.amazon.com/images/P/034545104X.0...   \n",
       "1  http://images.amazon.com/images/P/0155061224.0...   \n",
       "2  http://images.amazon.com/images/P/0446520802.0...   \n",
       "3  http://images.amazon.com/images/P/052165615X.0...   \n",
       "4  http://images.amazon.com/images/P/0521795028.0...   \n",
       "\n",
       "                                         Image-URL-L  \n",
       "0  http://images.amazon.com/images/P/034545104X.0...  \n",
       "1  http://images.amazon.com/images/P/0155061224.0...  \n",
       "2  http://images.amazon.com/images/P/0446520802.0...  \n",
       "3  http://images.amazon.com/images/P/052165615X.0...  \n",
       "4  http://images.amazon.com/images/P/0521795028.0...  "
      ]
     },
     "execution_count": 66,
     "metadata": {},
     "output_type": "execute_result"
    }
   ],
   "source": [
    "data.head()"
   ]
  },
  {
   "cell_type": "code",
   "execution_count": 67,
   "id": "2a6e9695-7a3e-4381-9695-08e600945024",
   "metadata": {},
   "outputs": [
    {
     "data": {
      "text/html": [
       "<div>\n",
       "<style scoped>\n",
       "    .dataframe tbody tr th:only-of-type {\n",
       "        vertical-align: middle;\n",
       "    }\n",
       "\n",
       "    .dataframe tbody tr th {\n",
       "        vertical-align: top;\n",
       "    }\n",
       "\n",
       "    .dataframe thead th {\n",
       "        text-align: right;\n",
       "    }\n",
       "</style>\n",
       "<table border=\"1\" class=\"dataframe\">\n",
       "  <thead>\n",
       "    <tr style=\"text-align: right;\">\n",
       "      <th></th>\n",
       "      <th>Book-Title</th>\n",
       "      <th>Num_Rating</th>\n",
       "    </tr>\n",
       "  </thead>\n",
       "  <tbody>\n",
       "    <tr>\n",
       "      <th>0</th>\n",
       "      <td>A Light in the Storm: The Civil War Diary of ...</td>\n",
       "      <td>4</td>\n",
       "    </tr>\n",
       "    <tr>\n",
       "      <th>1</th>\n",
       "      <td>Always Have Popsicles</td>\n",
       "      <td>1</td>\n",
       "    </tr>\n",
       "    <tr>\n",
       "      <th>2</th>\n",
       "      <td>Apple Magic (The Collector's series)</td>\n",
       "      <td>1</td>\n",
       "    </tr>\n",
       "    <tr>\n",
       "      <th>3</th>\n",
       "      <td>Ask Lily (Young Women of Faith: Lily Series, ...</td>\n",
       "      <td>1</td>\n",
       "    </tr>\n",
       "    <tr>\n",
       "      <th>4</th>\n",
       "      <td>Beyond IBM: Leadership Marketing and Finance ...</td>\n",
       "      <td>1</td>\n",
       "    </tr>\n",
       "  </tbody>\n",
       "</table>\n",
       "</div>"
      ],
      "text/plain": [
       "                                          Book-Title  Num_Rating\n",
       "0   A Light in the Storm: The Civil War Diary of ...           4\n",
       "1                              Always Have Popsicles           1\n",
       "2               Apple Magic (The Collector's series)           1\n",
       "3   Ask Lily (Young Women of Faith: Lily Series, ...           1\n",
       "4   Beyond IBM: Leadership Marketing and Finance ...           1"
      ]
     },
     "execution_count": 67,
     "metadata": {},
     "output_type": "execute_result"
    }
   ],
   "source": [
    "num_rating=data.groupby(\"Book-Title\").count()[\"Book-Rating\"].reset_index()\n",
    "num_rating.rename(columns={\"Book-Rating\":\"Num_Rating\"},inplace=True)\n",
    "num_rating.head()"
   ]
  },
  {
   "cell_type": "code",
   "execution_count": 68,
   "id": "4da7387e-0e5c-4c25-ab8c-8ec54cc9ecb8",
   "metadata": {},
   "outputs": [
    {
     "data": {
      "text/html": [
       "<div>\n",
       "<style scoped>\n",
       "    .dataframe tbody tr th:only-of-type {\n",
       "        vertical-align: middle;\n",
       "    }\n",
       "\n",
       "    .dataframe tbody tr th {\n",
       "        vertical-align: top;\n",
       "    }\n",
       "\n",
       "    .dataframe thead th {\n",
       "        text-align: right;\n",
       "    }\n",
       "</style>\n",
       "<table border=\"1\" class=\"dataframe\">\n",
       "  <thead>\n",
       "    <tr style=\"text-align: right;\">\n",
       "      <th></th>\n",
       "      <th>Book-Title</th>\n",
       "      <th>Avg_Rating</th>\n",
       "    </tr>\n",
       "  </thead>\n",
       "  <tbody>\n",
       "    <tr>\n",
       "      <th>0</th>\n",
       "      <td>A Light in the Storm: The Civil War Diary of ...</td>\n",
       "      <td>2.25</td>\n",
       "    </tr>\n",
       "    <tr>\n",
       "      <th>1</th>\n",
       "      <td>Always Have Popsicles</td>\n",
       "      <td>0.00</td>\n",
       "    </tr>\n",
       "    <tr>\n",
       "      <th>2</th>\n",
       "      <td>Apple Magic (The Collector's series)</td>\n",
       "      <td>0.00</td>\n",
       "    </tr>\n",
       "    <tr>\n",
       "      <th>3</th>\n",
       "      <td>Ask Lily (Young Women of Faith: Lily Series, ...</td>\n",
       "      <td>8.00</td>\n",
       "    </tr>\n",
       "    <tr>\n",
       "      <th>4</th>\n",
       "      <td>Beyond IBM: Leadership Marketing and Finance ...</td>\n",
       "      <td>0.00</td>\n",
       "    </tr>\n",
       "  </tbody>\n",
       "</table>\n",
       "</div>"
      ],
      "text/plain": [
       "                                          Book-Title  Avg_Rating\n",
       "0   A Light in the Storm: The Civil War Diary of ...        2.25\n",
       "1                              Always Have Popsicles        0.00\n",
       "2               Apple Magic (The Collector's series)        0.00\n",
       "3   Ask Lily (Young Women of Faith: Lily Series, ...        8.00\n",
       "4   Beyond IBM: Leadership Marketing and Finance ...        0.00"
      ]
     },
     "execution_count": 68,
     "metadata": {},
     "output_type": "execute_result"
    }
   ],
   "source": [
    "avg_rating=data.groupby(\"Book-Title\").mean(numeric_only = True)[\"Book-Rating\"].reset_index()\n",
    "avg_rating.rename(columns={\"Book-Rating\":\"Avg_Rating\"},inplace=True)\n",
    "avg_rating.head()"
   ]
  },
  {
   "cell_type": "code",
   "execution_count": 69,
   "id": "03b9add5-b6c0-42b9-abd9-263c0ced4fed",
   "metadata": {},
   "outputs": [
    {
     "data": {
      "text/html": [
       "<div>\n",
       "<style scoped>\n",
       "    .dataframe tbody tr th:only-of-type {\n",
       "        vertical-align: middle;\n",
       "    }\n",
       "\n",
       "    .dataframe tbody tr th {\n",
       "        vertical-align: top;\n",
       "    }\n",
       "\n",
       "    .dataframe thead th {\n",
       "        text-align: right;\n",
       "    }\n",
       "</style>\n",
       "<table border=\"1\" class=\"dataframe\">\n",
       "  <thead>\n",
       "    <tr style=\"text-align: right;\">\n",
       "      <th></th>\n",
       "      <th>Book-Title</th>\n",
       "      <th>Avg_Rating</th>\n",
       "      <th>Num_Rating</th>\n",
       "    </tr>\n",
       "  </thead>\n",
       "  <tbody>\n",
       "    <tr>\n",
       "      <th>0</th>\n",
       "      <td>A Light in the Storm: The Civil War Diary of ...</td>\n",
       "      <td>2.25</td>\n",
       "      <td>4</td>\n",
       "    </tr>\n",
       "    <tr>\n",
       "      <th>1</th>\n",
       "      <td>Always Have Popsicles</td>\n",
       "      <td>0.00</td>\n",
       "      <td>1</td>\n",
       "    </tr>\n",
       "    <tr>\n",
       "      <th>2</th>\n",
       "      <td>Apple Magic (The Collector's series)</td>\n",
       "      <td>0.00</td>\n",
       "      <td>1</td>\n",
       "    </tr>\n",
       "    <tr>\n",
       "      <th>3</th>\n",
       "      <td>Ask Lily (Young Women of Faith: Lily Series, ...</td>\n",
       "      <td>8.00</td>\n",
       "      <td>1</td>\n",
       "    </tr>\n",
       "    <tr>\n",
       "      <th>4</th>\n",
       "      <td>Beyond IBM: Leadership Marketing and Finance ...</td>\n",
       "      <td>0.00</td>\n",
       "      <td>1</td>\n",
       "    </tr>\n",
       "  </tbody>\n",
       "</table>\n",
       "</div>"
      ],
      "text/plain": [
       "                                          Book-Title  Avg_Rating  Num_Rating\n",
       "0   A Light in the Storm: The Civil War Diary of ...        2.25           4\n",
       "1                              Always Have Popsicles        0.00           1\n",
       "2               Apple Magic (The Collector's series)        0.00           1\n",
       "3   Ask Lily (Young Women of Faith: Lily Series, ...        8.00           1\n",
       "4   Beyond IBM: Leadership Marketing and Finance ...        0.00           1"
      ]
     },
     "execution_count": 69,
     "metadata": {},
     "output_type": "execute_result"
    }
   ],
   "source": [
    "final_rating=avg_rating.merge(num_rating,on=\"Book-Title\")\n",
    "final_rating.head()"
   ]
  },
  {
   "cell_type": "code",
   "execution_count": 70,
   "id": "552ead6c-ac20-4ce5-a087-cecc17df02e1",
   "metadata": {},
   "outputs": [
    {
     "data": {
      "text/html": [
       "<div>\n",
       "<style scoped>\n",
       "    .dataframe tbody tr th:only-of-type {\n",
       "        vertical-align: middle;\n",
       "    }\n",
       "\n",
       "    .dataframe tbody tr th {\n",
       "        vertical-align: top;\n",
       "    }\n",
       "\n",
       "    .dataframe thead th {\n",
       "        text-align: right;\n",
       "    }\n",
       "</style>\n",
       "<table border=\"1\" class=\"dataframe\">\n",
       "  <thead>\n",
       "    <tr style=\"text-align: right;\">\n",
       "      <th></th>\n",
       "      <th>Book-Title</th>\n",
       "      <th>Avg_Rating</th>\n",
       "      <th>Num_Rating</th>\n",
       "    </tr>\n",
       "  </thead>\n",
       "  <tbody>\n",
       "    <tr>\n",
       "      <th>80434</th>\n",
       "      <td>Harry Potter and the Prisoner of Azkaban (Book 3)</td>\n",
       "      <td>5.852804</td>\n",
       "      <td>428</td>\n",
       "    </tr>\n",
       "    <tr>\n",
       "      <th>80422</th>\n",
       "      <td>Harry Potter and the Goblet of Fire (Book 4)</td>\n",
       "      <td>5.824289</td>\n",
       "      <td>387</td>\n",
       "    </tr>\n",
       "    <tr>\n",
       "      <th>80441</th>\n",
       "      <td>Harry Potter and the Sorcerer's Stone (Book 1)</td>\n",
       "      <td>5.737410</td>\n",
       "      <td>278</td>\n",
       "    </tr>\n",
       "    <tr>\n",
       "      <th>80426</th>\n",
       "      <td>Harry Potter and the Order of the Phoenix (Boo...</td>\n",
       "      <td>5.501441</td>\n",
       "      <td>347</td>\n",
       "    </tr>\n",
       "    <tr>\n",
       "      <th>80414</th>\n",
       "      <td>Harry Potter and the Chamber of Secrets (Book 2)</td>\n",
       "      <td>5.183453</td>\n",
       "      <td>556</td>\n",
       "    </tr>\n",
       "  </tbody>\n",
       "</table>\n",
       "</div>"
      ],
      "text/plain": [
       "                                              Book-Title  Avg_Rating  \\\n",
       "80434  Harry Potter and the Prisoner of Azkaban (Book 3)    5.852804   \n",
       "80422       Harry Potter and the Goblet of Fire (Book 4)    5.824289   \n",
       "80441     Harry Potter and the Sorcerer's Stone (Book 1)    5.737410   \n",
       "80426  Harry Potter and the Order of the Phoenix (Boo...    5.501441   \n",
       "80414   Harry Potter and the Chamber of Secrets (Book 2)    5.183453   \n",
       "\n",
       "       Num_Rating  \n",
       "80434         428  \n",
       "80422         387  \n",
       "80441         278  \n",
       "80426         347  \n",
       "80414         556  "
      ]
     },
     "execution_count": 70,
     "metadata": {},
     "output_type": "execute_result"
    }
   ],
   "source": [
    "final_rating=final_rating[final_rating[\"Num_Rating\"]>=250].sort_values(\"Avg_Rating\",ascending=False)\n",
    "final_rating.head()"
   ]
  },
  {
   "cell_type": "code",
   "execution_count": 71,
   "id": "ee6a4afe-a84c-4023-9637-968d4f9a6906",
   "metadata": {},
   "outputs": [
    {
     "data": {
      "text/html": [
       "<div>\n",
       "<style scoped>\n",
       "    .dataframe tbody tr th:only-of-type {\n",
       "        vertical-align: middle;\n",
       "    }\n",
       "\n",
       "    .dataframe tbody tr th {\n",
       "        vertical-align: top;\n",
       "    }\n",
       "\n",
       "    .dataframe thead th {\n",
       "        text-align: right;\n",
       "    }\n",
       "</style>\n",
       "<table border=\"1\" class=\"dataframe\">\n",
       "  <thead>\n",
       "    <tr style=\"text-align: right;\">\n",
       "      <th></th>\n",
       "      <th>Book-Title</th>\n",
       "      <th>Avg_Rating</th>\n",
       "      <th>Num_Rating</th>\n",
       "      <th>ISBN</th>\n",
       "      <th>Book-Author</th>\n",
       "      <th>Year-Of-Publication</th>\n",
       "      <th>Publisher</th>\n",
       "      <th>Image-URL-S</th>\n",
       "      <th>Image-URL-M</th>\n",
       "      <th>Image-URL-L</th>\n",
       "    </tr>\n",
       "  </thead>\n",
       "  <tbody>\n",
       "    <tr>\n",
       "      <th>0</th>\n",
       "      <td>Harry Potter and the Prisoner of Azkaban (Book 3)</td>\n",
       "      <td>5.852804</td>\n",
       "      <td>428</td>\n",
       "      <td>0439136350</td>\n",
       "      <td>J. K. Rowling</td>\n",
       "      <td>1999</td>\n",
       "      <td>Scholastic</td>\n",
       "      <td>http://images.amazon.com/images/P/0439136350.0...</td>\n",
       "      <td>http://images.amazon.com/images/P/0439136350.0...</td>\n",
       "      <td>http://images.amazon.com/images/P/0439136350.0...</td>\n",
       "    </tr>\n",
       "    <tr>\n",
       "      <th>3</th>\n",
       "      <td>Harry Potter and the Goblet of Fire (Book 4)</td>\n",
       "      <td>5.824289</td>\n",
       "      <td>387</td>\n",
       "      <td>0439139597</td>\n",
       "      <td>J. K. Rowling</td>\n",
       "      <td>2000</td>\n",
       "      <td>Scholastic</td>\n",
       "      <td>http://images.amazon.com/images/P/0439139597.0...</td>\n",
       "      <td>http://images.amazon.com/images/P/0439139597.0...</td>\n",
       "      <td>http://images.amazon.com/images/P/0439139597.0...</td>\n",
       "    </tr>\n",
       "    <tr>\n",
       "      <th>5</th>\n",
       "      <td>Harry Potter and the Sorcerer's Stone (Book 1)</td>\n",
       "      <td>5.737410</td>\n",
       "      <td>278</td>\n",
       "      <td>0590353403</td>\n",
       "      <td>J. K. Rowling</td>\n",
       "      <td>1998</td>\n",
       "      <td>Scholastic</td>\n",
       "      <td>http://images.amazon.com/images/P/0590353403.0...</td>\n",
       "      <td>http://images.amazon.com/images/P/0590353403.0...</td>\n",
       "      <td>http://images.amazon.com/images/P/0590353403.0...</td>\n",
       "    </tr>\n",
       "  </tbody>\n",
       "</table>\n",
       "</div>"
      ],
      "text/plain": [
       "                                          Book-Title  Avg_Rating  Num_Rating  \\\n",
       "0  Harry Potter and the Prisoner of Azkaban (Book 3)    5.852804         428   \n",
       "3       Harry Potter and the Goblet of Fire (Book 4)    5.824289         387   \n",
       "5     Harry Potter and the Sorcerer's Stone (Book 1)    5.737410         278   \n",
       "\n",
       "         ISBN    Book-Author Year-Of-Publication   Publisher  \\\n",
       "0  0439136350  J. K. Rowling                1999  Scholastic   \n",
       "3  0439139597  J. K. Rowling                2000  Scholastic   \n",
       "5  0590353403  J. K. Rowling                1998  Scholastic   \n",
       "\n",
       "                                         Image-URL-S  \\\n",
       "0  http://images.amazon.com/images/P/0439136350.0...   \n",
       "3  http://images.amazon.com/images/P/0439139597.0...   \n",
       "5  http://images.amazon.com/images/P/0590353403.0...   \n",
       "\n",
       "                                         Image-URL-M  \\\n",
       "0  http://images.amazon.com/images/P/0439136350.0...   \n",
       "3  http://images.amazon.com/images/P/0439139597.0...   \n",
       "5  http://images.amazon.com/images/P/0590353403.0...   \n",
       "\n",
       "                                         Image-URL-L  \n",
       "0  http://images.amazon.com/images/P/0439136350.0...  \n",
       "3  http://images.amazon.com/images/P/0439139597.0...  \n",
       "5  http://images.amazon.com/images/P/0590353403.0...  "
      ]
     },
     "execution_count": 71,
     "metadata": {},
     "output_type": "execute_result"
    }
   ],
   "source": [
    "final_rating=final_rating.merge(book,on=\"Book-Title\").drop_duplicates(\"Book-Title\")\n",
    "final_rating.head(3)"
   ]
  },
  {
   "cell_type": "code",
   "execution_count": 72,
   "id": "befdc4f1-5959-4a7c-84e5-5956002aeb9e",
   "metadata": {},
   "outputs": [
    {
     "data": {
      "text/html": [
       "<div>\n",
       "<style scoped>\n",
       "    .dataframe tbody tr th:only-of-type {\n",
       "        vertical-align: middle;\n",
       "    }\n",
       "\n",
       "    .dataframe tbody tr th {\n",
       "        vertical-align: top;\n",
       "    }\n",
       "\n",
       "    .dataframe thead th {\n",
       "        text-align: right;\n",
       "    }\n",
       "</style>\n",
       "<table border=\"1\" class=\"dataframe\">\n",
       "  <thead>\n",
       "    <tr style=\"text-align: right;\">\n",
       "      <th></th>\n",
       "      <th>Book-Title</th>\n",
       "      <th>Num_Rating</th>\n",
       "      <th>Avg_Rating</th>\n",
       "      <th>Book-Author</th>\n",
       "      <th>Image-URL-M</th>\n",
       "    </tr>\n",
       "  </thead>\n",
       "  <tbody>\n",
       "    <tr>\n",
       "      <th>0</th>\n",
       "      <td>Harry Potter and the Prisoner of Azkaban (Book 3)</td>\n",
       "      <td>428</td>\n",
       "      <td>5.852804</td>\n",
       "      <td>J. K. Rowling</td>\n",
       "      <td>http://images.amazon.com/images/P/0439136350.0...</td>\n",
       "    </tr>\n",
       "    <tr>\n",
       "      <th>3</th>\n",
       "      <td>Harry Potter and the Goblet of Fire (Book 4)</td>\n",
       "      <td>387</td>\n",
       "      <td>5.824289</td>\n",
       "      <td>J. K. Rowling</td>\n",
       "      <td>http://images.amazon.com/images/P/0439139597.0...</td>\n",
       "    </tr>\n",
       "  </tbody>\n",
       "</table>\n",
       "</div>"
      ],
      "text/plain": [
       "                                          Book-Title  Num_Rating  Avg_Rating  \\\n",
       "0  Harry Potter and the Prisoner of Azkaban (Book 3)         428    5.852804   \n",
       "3       Harry Potter and the Goblet of Fire (Book 4)         387    5.824289   \n",
       "\n",
       "     Book-Author                                        Image-URL-M  \n",
       "0  J. K. Rowling  http://images.amazon.com/images/P/0439136350.0...  \n",
       "3  J. K. Rowling  http://images.amazon.com/images/P/0439139597.0...  "
      ]
     },
     "execution_count": 72,
     "metadata": {},
     "output_type": "execute_result"
    }
   ],
   "source": [
    "final_rating=final_rating[[\"Book-Title\",\"Num_Rating\",\"Avg_Rating\",\"Book-Author\",\"Image-URL-M\"]]\n",
    "final_rating.head(2)"
   ]
  },
  {
   "cell_type": "code",
   "execution_count": 73,
   "id": "c669cee8-7b18-4e0d-9a48-a5fc15c29a60",
   "metadata": {},
   "outputs": [
    {
     "data": {
      "text/html": [
       "<div>\n",
       "<style scoped>\n",
       "    .dataframe tbody tr th:only-of-type {\n",
       "        vertical-align: middle;\n",
       "    }\n",
       "\n",
       "    .dataframe tbody tr th {\n",
       "        vertical-align: top;\n",
       "    }\n",
       "\n",
       "    .dataframe thead th {\n",
       "        text-align: right;\n",
       "    }\n",
       "</style>\n",
       "<table border=\"1\" class=\"dataframe\">\n",
       "  <thead>\n",
       "    <tr style=\"text-align: right;\">\n",
       "      <th></th>\n",
       "      <th>Book-Title</th>\n",
       "      <th>Num_Rating</th>\n",
       "      <th>Avg_Rating</th>\n",
       "      <th>Book-Author</th>\n",
       "      <th>Image-URL-M</th>\n",
       "    </tr>\n",
       "  </thead>\n",
       "  <tbody>\n",
       "    <tr>\n",
       "      <th>0</th>\n",
       "      <td>Harry Potter and the Prisoner of Azkaban (Book 3)</td>\n",
       "      <td>428</td>\n",
       "      <td>5.852804</td>\n",
       "      <td>J. K. Rowling</td>\n",
       "      <td>http://images.amazon.com/images/P/0439136350.0...</td>\n",
       "    </tr>\n",
       "    <tr>\n",
       "      <th>1</th>\n",
       "      <td>Harry Potter and the Goblet of Fire (Book 4)</td>\n",
       "      <td>387</td>\n",
       "      <td>5.824289</td>\n",
       "      <td>J. K. Rowling</td>\n",
       "      <td>http://images.amazon.com/images/P/0439139597.0...</td>\n",
       "    </tr>\n",
       "  </tbody>\n",
       "</table>\n",
       "</div>"
      ],
      "text/plain": [
       "                                          Book-Title  Num_Rating  Avg_Rating  \\\n",
       "0  Harry Potter and the Prisoner of Azkaban (Book 3)         428    5.852804   \n",
       "1       Harry Potter and the Goblet of Fire (Book 4)         387    5.824289   \n",
       "\n",
       "     Book-Author                                        Image-URL-M  \n",
       "0  J. K. Rowling  http://images.amazon.com/images/P/0439136350.0...  \n",
       "1  J. K. Rowling  http://images.amazon.com/images/P/0439139597.0...  "
      ]
     },
     "execution_count": 73,
     "metadata": {},
     "output_type": "execute_result"
    }
   ],
   "source": [
    "final_rating=final_rating.reset_index(drop=True)\n",
    "final_rating.head(2)"
   ]
  },
  {
   "cell_type": "markdown",
   "id": "9bb59c51-f9ef-4147-aae0-803801e66c96",
   "metadata": {},
   "source": [
    "## Collabrative Filtring Recomender"
   ]
  },
  {
   "cell_type": "code",
   "execution_count": 74,
   "id": "5c6a2140-8c70-47c7-b8f3-33fec042b47e",
   "metadata": {},
   "outputs": [],
   "source": [
    "y=data.groupby(\"User-ID\").count()[\"Book-Rating\"] > 200\n",
    "educated_user=y[y].index"
   ]
  },
  {
   "cell_type": "code",
   "execution_count": 75,
   "id": "8a882887-575e-4616-8e1d-be32335f8eb6",
   "metadata": {},
   "outputs": [
    {
     "data": {
      "text/html": [
       "<div>\n",
       "<style scoped>\n",
       "    .dataframe tbody tr th:only-of-type {\n",
       "        vertical-align: middle;\n",
       "    }\n",
       "\n",
       "    .dataframe tbody tr th {\n",
       "        vertical-align: top;\n",
       "    }\n",
       "\n",
       "    .dataframe thead th {\n",
       "        text-align: right;\n",
       "    }\n",
       "</style>\n",
       "<table border=\"1\" class=\"dataframe\">\n",
       "  <thead>\n",
       "    <tr style=\"text-align: right;\">\n",
       "      <th></th>\n",
       "      <th>User-ID</th>\n",
       "      <th>ISBN</th>\n",
       "      <th>Book-Rating</th>\n",
       "      <th>Book-Title</th>\n",
       "      <th>Book-Author</th>\n",
       "      <th>Year-Of-Publication</th>\n",
       "      <th>Publisher</th>\n",
       "      <th>Image-URL-S</th>\n",
       "      <th>Image-URL-M</th>\n",
       "      <th>Image-URL-L</th>\n",
       "    </tr>\n",
       "  </thead>\n",
       "  <tbody>\n",
       "    <tr>\n",
       "      <th>1150</th>\n",
       "      <td>277427</td>\n",
       "      <td>002542730X</td>\n",
       "      <td>10</td>\n",
       "      <td>Politically Correct Bedtime Stories: Modern Ta...</td>\n",
       "      <td>James Finn Garner</td>\n",
       "      <td>1994</td>\n",
       "      <td>John Wiley &amp;amp; Sons Inc</td>\n",
       "      <td>http://images.amazon.com/images/P/002542730X.0...</td>\n",
       "      <td>http://images.amazon.com/images/P/002542730X.0...</td>\n",
       "      <td>http://images.amazon.com/images/P/002542730X.0...</td>\n",
       "    </tr>\n",
       "    <tr>\n",
       "      <th>1151</th>\n",
       "      <td>277427</td>\n",
       "      <td>0026217457</td>\n",
       "      <td>0</td>\n",
       "      <td>Vegetarian Times Complete Cookbook</td>\n",
       "      <td>Lucy  Moll</td>\n",
       "      <td>1995</td>\n",
       "      <td>John Wiley &amp;amp; Sons</td>\n",
       "      <td>http://images.amazon.com/images/P/0026217457.0...</td>\n",
       "      <td>http://images.amazon.com/images/P/0026217457.0...</td>\n",
       "      <td>http://images.amazon.com/images/P/0026217457.0...</td>\n",
       "    </tr>\n",
       "  </tbody>\n",
       "</table>\n",
       "</div>"
      ],
      "text/plain": [
       "      User-ID        ISBN  Book-Rating  \\\n",
       "1150   277427  002542730X           10   \n",
       "1151   277427  0026217457            0   \n",
       "\n",
       "                                             Book-Title        Book-Author  \\\n",
       "1150  Politically Correct Bedtime Stories: Modern Ta...  James Finn Garner   \n",
       "1151                 Vegetarian Times Complete Cookbook         Lucy  Moll   \n",
       "\n",
       "     Year-Of-Publication                  Publisher  \\\n",
       "1150                1994  John Wiley &amp; Sons Inc   \n",
       "1151                1995      John Wiley &amp; Sons   \n",
       "\n",
       "                                            Image-URL-S  \\\n",
       "1150  http://images.amazon.com/images/P/002542730X.0...   \n",
       "1151  http://images.amazon.com/images/P/0026217457.0...   \n",
       "\n",
       "                                            Image-URL-M  \\\n",
       "1150  http://images.amazon.com/images/P/002542730X.0...   \n",
       "1151  http://images.amazon.com/images/P/0026217457.0...   \n",
       "\n",
       "                                            Image-URL-L  \n",
       "1150  http://images.amazon.com/images/P/002542730X.0...  \n",
       "1151  http://images.amazon.com/images/P/0026217457.0...  "
      ]
     },
     "execution_count": 75,
     "metadata": {},
     "output_type": "execute_result"
    }
   ],
   "source": [
    "filter_data=data[data[\"User-ID\"].isin(educated_user)]\n",
    "filter_data.head(2)"
   ]
  },
  {
   "cell_type": "code",
   "execution_count": 76,
   "id": "5bad94a1-8bc1-4c1c-8d6c-aa5a7f1dc7ee",
   "metadata": {},
   "outputs": [],
   "source": [
    "famous_book=filter_data.groupby(\"Book-Title\").count()[\"Book-Rating\"]>=50\n",
    "famous_book=famous_book[famous_book].index"
   ]
  },
  {
   "cell_type": "code",
   "execution_count": 77,
   "id": "d68702f8-a3b6-45f2-b325-71ad0f525fc3",
   "metadata": {},
   "outputs": [],
   "source": [
    "final_rating=filter_data[filter_data[\"Book-Title\"].isin(famous_book)]"
   ]
  },
  {
   "cell_type": "code",
   "execution_count": 78,
   "id": "947c13d9-25b0-4d64-882b-030f69dc29d6",
   "metadata": {},
   "outputs": [
    {
     "data": {
      "text/plain": [
       "(706, 810)"
      ]
     },
     "execution_count": 78,
     "metadata": {},
     "output_type": "execute_result"
    }
   ],
   "source": [
    "pt=final_rating.pivot_table(index=\"Book-Title\",columns=\"User-ID\",values='Book-Rating')\n",
    "pt.shape"
   ]
  },
  {
   "cell_type": "code",
   "execution_count": 79,
   "id": "61c41754-9a82-44a1-be57-0020967e4e2d",
   "metadata": {},
   "outputs": [],
   "source": [
    "pt.fillna(0,inplace=True)"
   ]
  },
  {
   "cell_type": "code",
   "execution_count": 80,
   "id": "d183f3a9-c248-40ff-ab83-620d1173c28e",
   "metadata": {},
   "outputs": [
    {
     "data": {
      "text/html": [
       "<div>\n",
       "<style scoped>\n",
       "    .dataframe tbody tr th:only-of-type {\n",
       "        vertical-align: middle;\n",
       "    }\n",
       "\n",
       "    .dataframe tbody tr th {\n",
       "        vertical-align: top;\n",
       "    }\n",
       "\n",
       "    .dataframe thead th {\n",
       "        text-align: right;\n",
       "    }\n",
       "</style>\n",
       "<table border=\"1\" class=\"dataframe\">\n",
       "  <thead>\n",
       "    <tr style=\"text-align: right;\">\n",
       "      <th>User-ID</th>\n",
       "      <th>254</th>\n",
       "      <th>2276</th>\n",
       "      <th>2766</th>\n",
       "      <th>2977</th>\n",
       "      <th>3363</th>\n",
       "      <th>4017</th>\n",
       "      <th>4385</th>\n",
       "      <th>6251</th>\n",
       "      <th>6323</th>\n",
       "      <th>6543</th>\n",
       "      <th>...</th>\n",
       "      <th>271705</th>\n",
       "      <th>273979</th>\n",
       "      <th>274004</th>\n",
       "      <th>274061</th>\n",
       "      <th>274301</th>\n",
       "      <th>274308</th>\n",
       "      <th>275970</th>\n",
       "      <th>277427</th>\n",
       "      <th>277639</th>\n",
       "      <th>278418</th>\n",
       "    </tr>\n",
       "    <tr>\n",
       "      <th>Book-Title</th>\n",
       "      <th></th>\n",
       "      <th></th>\n",
       "      <th></th>\n",
       "      <th></th>\n",
       "      <th></th>\n",
       "      <th></th>\n",
       "      <th></th>\n",
       "      <th></th>\n",
       "      <th></th>\n",
       "      <th></th>\n",
       "      <th></th>\n",
       "      <th></th>\n",
       "      <th></th>\n",
       "      <th></th>\n",
       "      <th></th>\n",
       "      <th></th>\n",
       "      <th></th>\n",
       "      <th></th>\n",
       "      <th></th>\n",
       "      <th></th>\n",
       "      <th></th>\n",
       "    </tr>\n",
       "  </thead>\n",
       "  <tbody>\n",
       "    <tr>\n",
       "      <th>1984</th>\n",
       "      <td>9.0</td>\n",
       "      <td>0.0</td>\n",
       "      <td>0.0</td>\n",
       "      <td>0.0</td>\n",
       "      <td>0.0</td>\n",
       "      <td>0.0</td>\n",
       "      <td>0.0</td>\n",
       "      <td>0.0</td>\n",
       "      <td>0.0</td>\n",
       "      <td>0.0</td>\n",
       "      <td>...</td>\n",
       "      <td>10.0</td>\n",
       "      <td>0.0</td>\n",
       "      <td>0.0</td>\n",
       "      <td>0.0</td>\n",
       "      <td>0.0</td>\n",
       "      <td>0.0</td>\n",
       "      <td>0.0</td>\n",
       "      <td>0.0</td>\n",
       "      <td>0.0</td>\n",
       "      <td>0.0</td>\n",
       "    </tr>\n",
       "    <tr>\n",
       "      <th>1st to Die: A Novel</th>\n",
       "      <td>0.0</td>\n",
       "      <td>0.0</td>\n",
       "      <td>0.0</td>\n",
       "      <td>0.0</td>\n",
       "      <td>0.0</td>\n",
       "      <td>0.0</td>\n",
       "      <td>0.0</td>\n",
       "      <td>0.0</td>\n",
       "      <td>0.0</td>\n",
       "      <td>9.0</td>\n",
       "      <td>...</td>\n",
       "      <td>0.0</td>\n",
       "      <td>0.0</td>\n",
       "      <td>0.0</td>\n",
       "      <td>0.0</td>\n",
       "      <td>0.0</td>\n",
       "      <td>0.0</td>\n",
       "      <td>0.0</td>\n",
       "      <td>0.0</td>\n",
       "      <td>0.0</td>\n",
       "      <td>0.0</td>\n",
       "    </tr>\n",
       "  </tbody>\n",
       "</table>\n",
       "<p>2 rows × 810 columns</p>\n",
       "</div>"
      ],
      "text/plain": [
       "User-ID              254     2276    2766    2977    3363    4017    4385    \\\n",
       "Book-Title                                                                    \n",
       "1984                    9.0     0.0     0.0     0.0     0.0     0.0     0.0   \n",
       "1st to Die: A Novel     0.0     0.0     0.0     0.0     0.0     0.0     0.0   \n",
       "\n",
       "User-ID              6251    6323    6543    ...  271705  273979  274004  \\\n",
       "Book-Title                                   ...                           \n",
       "1984                    0.0     0.0     0.0  ...    10.0     0.0     0.0   \n",
       "1st to Die: A Novel     0.0     0.0     9.0  ...     0.0     0.0     0.0   \n",
       "\n",
       "User-ID              274061  274301  274308  275970  277427  277639  278418  \n",
       "Book-Title                                                                   \n",
       "1984                    0.0     0.0     0.0     0.0     0.0     0.0     0.0  \n",
       "1st to Die: A Novel     0.0     0.0     0.0     0.0     0.0     0.0     0.0  \n",
       "\n",
       "[2 rows x 810 columns]"
      ]
     },
     "execution_count": 80,
     "metadata": {},
     "output_type": "execute_result"
    }
   ],
   "source": [
    "pt.head(2)"
   ]
  },
  {
   "cell_type": "markdown",
   "id": "0e9a2075-eb31-4576-876d-883f5e269064",
   "metadata": {},
   "source": [
    "### Cosine Similarity"
   ]
  },
  {
   "cell_type": "code",
   "execution_count": 81,
   "id": "31c75222-d085-4ea8-9365-ab7af8d33897",
   "metadata": {},
   "outputs": [],
   "source": [
    "from sklearn.metrics.pairwise import cosine_similarity"
   ]
  },
  {
   "cell_type": "code",
   "execution_count": 82,
   "id": "4e77d446-9300-4311-9b87-504884ab3d24",
   "metadata": {},
   "outputs": [],
   "source": [
    "similarity_score=cosine_similarity(pt)"
   ]
  },
  {
   "cell_type": "code",
   "execution_count": 83,
   "id": "df4e544b-8ff2-4ac5-a8ef-be7c7edd6237",
   "metadata": {},
   "outputs": [
    {
     "data": {
      "text/plain": [
       "array([1.        , 0.10255025, 0.01220856, 0.        , 0.05367224,\n",
       "       0.02774901, 0.08216491, 0.13732869, 0.03261686, 0.03667591,\n",
       "       0.02322418, 0.06766487, 0.02083978, 0.09673735, 0.13388865,\n",
       "       0.08303112, 0.11153543, 0.05100411, 0.02517784, 0.11706383,\n",
       "       0.        , 0.14333793, 0.07847534, 0.06150451, 0.08723968,\n",
       "       0.        , 0.07009814, 0.13658681, 0.07600328, 0.12167134,\n",
       "       0.00768046, 0.01473221, 0.        , 0.07965814, 0.04522617,\n",
       "       0.01556271, 0.09495938, 0.0182307 , 0.02610465, 0.07984012,\n",
       "       0.11679969, 0.0569124 , 0.08354155, 0.08471898, 0.08785938,\n",
       "       0.05491435, 0.0548505 , 0.27026514, 0.09779123, 0.06016046,\n",
       "       0.08958835, 0.06748675, 0.        , 0.04468098, 0.01920872,\n",
       "       0.        , 0.05629067, 0.00557964, 0.07877059, 0.05219479,\n",
       "       0.18908177, 0.        , 0.01240656, 0.02984572, 0.04279502,\n",
       "       0.12680125, 0.16566735, 0.        , 0.13357242, 0.06615478,\n",
       "       0.        , 0.        , 0.        , 0.10968075, 0.02806606,\n",
       "       0.04521795, 0.02613277, 0.06876131, 0.01331627, 0.10519138,\n",
       "       0.03349457, 0.01363458, 0.23669374, 0.        , 0.10397941,\n",
       "       0.06167753, 0.14176273, 0.11661083, 0.08331012, 0.00850895,\n",
       "       0.06715433, 0.        , 0.15850821, 0.0328052 , 0.01068915,\n",
       "       0.02579782, 0.02114859, 0.02687779, 0.02175821, 0.        ,\n",
       "       0.01601663, 0.12114266, 0.04768603, 0.05819184, 0.06510722,\n",
       "       0.        , 0.0476705 , 0.05273165, 0.0281001 , 0.06524573,\n",
       "       0.02116345, 0.02097868, 0.07422249, 0.01752778, 0.03734567,\n",
       "       0.        , 0.01579666, 0.11039448, 0.16527277, 0.15514319,\n",
       "       0.06237454, 0.08139489, 0.05655414, 0.07458203, 0.03771888,\n",
       "       0.0593633 , 0.02955369, 0.03355603, 0.04734093, 0.01006643,\n",
       "       0.01671982, 0.07258935, 0.        , 0.        , 0.        ,\n",
       "       0.02428501, 0.03067819, 0.0997498 , 0.        , 0.01690152,\n",
       "       0.02410862, 0.0281084 , 0.        , 0.        , 0.01812877,\n",
       "       0.02880827, 0.        , 0.05995157, 0.02127671, 0.1034119 ,\n",
       "       0.02766748, 0.10684795, 0.09898722, 0.14145186, 0.05007429,\n",
       "       0.09428289, 0.01411249, 0.        , 0.07835976, 0.00882242,\n",
       "       0.04515898, 0.        , 0.01281412, 0.04003334, 0.07477661,\n",
       "       0.01217906, 0.01887393, 0.02667484, 0.01432864, 0.14702847,\n",
       "       0.06087282, 0.02578321, 0.02741876, 0.        , 0.14909595,\n",
       "       0.05606788, 0.        , 0.03199916, 0.03643817, 0.        ,\n",
       "       0.01962921, 0.22222254, 0.01515845, 0.09673268, 0.02190023,\n",
       "       0.02013549, 0.05400331, 0.07262017, 0.01111637, 0.03649872,\n",
       "       0.05994664, 0.        , 0.14691167, 0.02086005, 0.10359635,\n",
       "       0.09794375, 0.06609997, 0.12871083, 0.08992739, 0.01147457,\n",
       "       0.02460165, 0.        , 0.18049207, 0.05141892, 0.0477174 ,\n",
       "       0.10849696, 0.13278139, 0.05915288, 0.05372984, 0.034785  ,\n",
       "       0.        , 0.09203039, 0.06388401, 0.04773328, 0.15570975,\n",
       "       0.08420691, 0.12338217, 0.0878469 , 0.08205945, 0.12177532,\n",
       "       0.02433703, 0.00272862, 0.        , 0.        , 0.03671505,\n",
       "       0.15280984, 0.0370943 , 0.07458136, 0.09746697, 0.05416091,\n",
       "       0.10266993, 0.07574414, 0.06426526, 0.0360174 , 0.01559752,\n",
       "       0.02033559, 0.02463593, 0.        , 0.03349154, 0.02135369,\n",
       "       0.0190337 , 0.06806265, 0.02032116, 0.11784706, 0.07839488,\n",
       "       0.08422558, 0.        , 0.02040796, 0.        , 0.04698246,\n",
       "       0.08294513, 0.13974514, 0.01234525, 0.13510608, 0.07423489,\n",
       "       0.11841889, 0.04930091, 0.01621668, 0.02633023, 0.04815972,\n",
       "       0.01959826, 0.10174253, 0.13257638, 0.        , 0.0551027 ,\n",
       "       0.0186115 , 0.        , 0.04504598, 0.03482459, 0.16503292,\n",
       "       0.08466191, 0.06795353, 0.02987653, 0.        , 0.        ,\n",
       "       0.08781993, 0.07885279, 0.04799058, 0.01467964, 0.02123837,\n",
       "       0.04549923, 0.08673969, 0.00885998, 0.02880637, 0.02022145,\n",
       "       0.02414122, 0.12548312, 0.        , 0.02482518, 0.06520606,\n",
       "       0.        , 0.0606983 , 0.01177824, 0.13974105, 0.01978844,\n",
       "       0.01260824, 0.08608601, 0.04433883, 0.02943085, 0.02242496,\n",
       "       0.06541868, 0.07866868, 0.14281399, 0.11979305, 0.01858409,\n",
       "       0.13445377, 0.04809338, 0.09790644, 0.        , 0.17415731,\n",
       "       0.07437756, 0.        , 0.12389065, 0.01042391, 0.02580849,\n",
       "       0.        , 0.0895139 , 0.04005551, 0.19182231, 0.02267512,\n",
       "       0.01730347, 0.03054044, 0.07008822, 0.10084626, 0.10467615,\n",
       "       0.01683462, 0.12468283, 0.10266459, 0.03549836, 0.02667484,\n",
       "       0.07652765, 0.08474056, 0.01831977, 0.02177482, 0.15293362,\n",
       "       0.        , 0.        , 0.01063251, 0.02153089, 0.02946443,\n",
       "       0.        , 0.02076783, 0.01194825, 0.00953675, 0.2067554 ,\n",
       "       0.01554292, 0.0390266 , 0.06681046, 0.09014973, 0.05914735,\n",
       "       0.06206857, 0.        , 0.02005959, 0.07843566, 0.16337845,\n",
       "       0.07161075, 0.        , 0.14595258, 0.07561631, 0.02939738,\n",
       "       0.04779629, 0.01807238, 0.11362722, 0.09791273, 0.07999693,\n",
       "       0.08912337, 0.10941777, 0.        , 0.02115842, 0.0600393 ,\n",
       "       0.01797154, 0.05755408, 0.02166863, 0.09754449, 0.13107652,\n",
       "       0.        , 0.06829904, 0.09132922, 0.        , 0.02781406,\n",
       "       0.01533368, 0.06113179, 0.01757286, 0.02471294, 0.0180158 ,\n",
       "       0.11789806, 0.06468143, 0.13904191, 0.        , 0.06671644,\n",
       "       0.        , 0.        , 0.05762086, 0.02266096, 0.00844876,\n",
       "       0.02297481, 0.07136276, 0.15305514, 0.06039874, 0.        ,\n",
       "       0.08996912, 0.01545947, 0.10135299, 0.        , 0.01676344,\n",
       "       0.        , 0.0502188 , 0.16041182, 0.        , 0.13439733,\n",
       "       0.12508514, 0.02329035, 0.0198727 , 0.01105674, 0.02548034,\n",
       "       0.00896044, 0.08246122, 0.01902896, 0.07025003, 0.0216367 ,\n",
       "       0.12822982, 0.09998772, 0.08642895, 0.06355197, 0.02883024,\n",
       "       0.04335826, 0.0470659 , 0.05223733, 0.        , 0.08982751,\n",
       "       0.00875634, 0.09923542, 0.10228551, 0.        , 0.12307492,\n",
       "       0.01758929, 0.02028125, 0.1033827 , 0.13028171, 0.08988894,\n",
       "       0.09005001, 0.05332049, 0.08033436, 0.04597795, 0.06139888,\n",
       "       0.02300709, 0.02304904, 0.06523041, 0.01915363, 0.        ,\n",
       "       0.04542766, 0.        , 0.        , 0.05261954, 0.01317088,\n",
       "       0.        , 0.        , 0.0485931 , 0.0734819 , 0.10354481,\n",
       "       0.01718807, 0.09919937, 0.08091989, 0.00358835, 0.04757132,\n",
       "       0.11122765, 0.05143481, 0.0566614 , 0.        , 0.06087719,\n",
       "       0.10800615, 0.        , 0.07554686, 0.        , 0.13644384,\n",
       "       0.04796763, 0.16104067, 0.        , 0.01759864, 0.05438295,\n",
       "       0.        , 0.08100801, 0.13090711, 0.00581844, 0.07150547,\n",
       "       0.05428487, 0.06143184, 0.05161653, 0.1951182 , 0.1149488 ,\n",
       "       0.06513047, 0.06401961, 0.        , 0.        , 0.10853662,\n",
       "       0.11400426, 0.0463925 , 0.01825277, 0.        , 0.01195201,\n",
       "       0.21057744, 0.05809707, 0.04349156, 0.02646256, 0.07276403,\n",
       "       0.05264857, 0.07242165, 0.06790898, 0.01626564, 0.02431809,\n",
       "       0.02093565, 0.13617057, 0.11784149, 0.08588206, 0.09284352,\n",
       "       0.11277297, 0.06868983, 0.08200947, 0.13369059, 0.        ,\n",
       "       0.19972625, 0.02286207, 0.0806288 , 0.        , 0.05756015,\n",
       "       0.06738056, 0.        , 0.19656288, 0.06306426, 0.03499381,\n",
       "       0.06123119, 0.09596456, 0.02180168, 0.02317515, 0.06476149,\n",
       "       0.07052241, 0.08280452, 0.1700872 , 0.07213921, 0.01172201,\n",
       "       0.08541218, 0.17990898, 0.08007284, 0.01739625, 0.16728777,\n",
       "       0.26396194, 0.1840891 , 0.05600273, 0.04133586, 0.06911015,\n",
       "       0.14456847, 0.22626397, 0.19208896, 0.0239334 , 0.20025064,\n",
       "       0.01507653, 0.05144282, 0.1233368 , 0.1420166 , 0.02472079,\n",
       "       0.08563805, 0.02363426, 0.12794024, 0.01083153, 0.07352436,\n",
       "       0.09532519, 0.03421895, 0.07194212, 0.02297079, 0.15344079,\n",
       "       0.08856302, 0.        , 0.        , 0.01878656, 0.09772942,\n",
       "       0.04404359, 0.15211972, 0.0152225 , 0.10307399, 0.05715789,\n",
       "       0.04600056, 0.06303899, 0.06572303, 0.14421331, 0.08272478,\n",
       "       0.        , 0.04203701, 0.02276077, 0.17381829, 0.01909967,\n",
       "       0.16000268, 0.14681486, 0.        , 0.05940546, 0.07725115,\n",
       "       0.07464763, 0.06546696, 0.07021577, 0.18921368, 0.02494136,\n",
       "       0.01705027, 0.05437622, 0.04932819, 0.        , 0.11445399,\n",
       "       0.08001595, 0.12858515, 0.02306658, 0.06129105, 0.02090769,\n",
       "       0.04550867, 0.1026659 , 0.10725982, 0.0260534 , 0.00173709,\n",
       "       0.0987294 , 0.08077482, 0.02159226, 0.01614275, 0.0208464 ,\n",
       "       0.09797466, 0.01906731, 0.18571699, 0.05344577, 0.18925314,\n",
       "       0.05894189, 0.01488161, 0.1202478 , 0.09840359, 0.01048126,\n",
       "       0.10596224, 0.07617195, 0.0805439 , 0.        , 0.23299389,\n",
       "       0.01073642, 0.13573542, 0.04578552, 0.14440017, 0.        ,\n",
       "       0.12522954, 0.0645501 , 0.02817522, 0.14445559, 0.01721045,\n",
       "       0.09508161, 0.0517902 , 0.18410818, 0.08704224, 0.10990764,\n",
       "       0.10850377, 0.03954865, 0.0383631 , 0.02463491, 0.07845405,\n",
       "       0.03455548, 0.03007681, 0.02484076, 0.04223674, 0.14444517,\n",
       "       0.12340234, 0.01510201, 0.0284437 , 0.02132016, 0.07391778,\n",
       "       0.08904276, 0.15893871, 0.06947574, 0.01060787, 0.        ,\n",
       "       0.09993169, 0.05711356, 0.09488374, 0.00948943, 0.13365876,\n",
       "       0.05794064, 0.        , 0.06721284, 0.02066998, 0.        ,\n",
       "       0.01839428, 0.        , 0.12655364, 0.08418288, 0.09095705,\n",
       "       0.00730589, 0.08143881, 0.        , 0.04218803, 0.08392849,\n",
       "       0.07785801, 0.        , 0.07151794, 0.02407593, 0.01635126,\n",
       "       0.03734567, 0.05237227, 0.01140169, 0.00968725, 0.12530648,\n",
       "       0.00909905, 0.05864096, 0.01769644, 0.12110367, 0.07347567,\n",
       "       0.04316046])"
      ]
     },
     "execution_count": 83,
     "metadata": {},
     "output_type": "execute_result"
    }
   ],
   "source": [
    "similarity_score[0]"
   ]
  },
  {
   "cell_type": "code",
   "execution_count": 113,
   "id": "d7162206-d5f2-40ef-8795-9327cb8023b4",
   "metadata": {},
   "outputs": [],
   "source": [
    "def recomend(book_name):\n",
    "    index=np.where(pt.index==book_name)[0][0]\n",
    "    similar_item=sorted(list(enumerate(similarity_score[index])),key=lambda x:x[1],reverse=True)[1:6]\n",
    "    data=[]\n",
    "    for i in similar_item:\n",
    "        l=[]\n",
    "        temp=book[book[\"Book-Title\"]==pt.index[i[0]]]\n",
    "        l.extend(list(temp.drop_duplicates(\"Book-Title\")[\"Book-Title\"].values))\n",
    "        l.extend(list(temp.drop_duplicates(\"Book-Title\")[\"Book-Author\"].values))\n",
    "        l.extend(list(temp.drop_duplicates(\"Book-Title\")[\"Image-URL-M\"].values))\n",
    "        data.append(l)\n",
    "    return data\n",
    "    "
   ]
  },
  {
   "cell_type": "code",
   "execution_count": 114,
   "id": "19b66c2b-a51c-48e4-9937-6bd102df6509",
   "metadata": {},
   "outputs": [
    {
     "data": {
      "text/plain": [
       "[['Harry Potter and the Goblet of Fire (Book 4)',\n",
       "  'J. K. Rowling',\n",
       "  'http://images.amazon.com/images/P/0439139597.01.MZZZZZZZ.jpg'],\n",
       " ['Harry Potter and the Chamber of Secrets (Book 2)',\n",
       "  'J. K. Rowling',\n",
       "  'http://images.amazon.com/images/P/0439064872.01.MZZZZZZZ.jpg'],\n",
       " ['Harry Potter and the Order of the Phoenix (Book 5)',\n",
       "  'J. K. Rowling',\n",
       "  'http://images.amazon.com/images/P/043935806X.01.MZZZZZZZ.jpg'],\n",
       " [\"Harry Potter and the Sorcerer's Stone (Book 1)\",\n",
       "  'J. K. Rowling',\n",
       "  'http://images.amazon.com/images/P/0590353403.01.MZZZZZZZ.jpg'],\n",
       " [\"Harry Potter and the Sorcerer's Stone (Harry Potter (Paperback))\",\n",
       "  'J. K. Rowling',\n",
       "  'http://images.amazon.com/images/P/059035342X.01.MZZZZZZZ.jpg']]"
      ]
     },
     "execution_count": 114,
     "metadata": {},
     "output_type": "execute_result"
    }
   ],
   "source": [
    "recomend(\"Harry Potter and the Prisoner of Azkaban (Book 3)\")"
   ]
  },
  {
   "cell_type": "code",
   "execution_count": 86,
   "id": "1c389712-a1b1-42b1-9f23-71c4f305091a",
   "metadata": {},
   "outputs": [
    {
     "data": {
      "text/plain": [
       "[(47, np.float64(0.2702651417103732)),\n",
       " (545, np.float64(0.2639619371123497)),\n",
       " (82, np.float64(0.23669374347400993)),\n",
       " (634, np.float64(0.23299389358170394)),\n",
       " (551, np.float64(0.2262639743141286))]"
      ]
     },
     "execution_count": 86,
     "metadata": {},
     "output_type": "execute_result"
    }
   ],
   "source": [
    "sorted(list(enumerate(similarity_score[0])),key=lambda x:x[1],reverse=True)[1:6]"
   ]
  },
  {
   "cell_type": "code",
   "execution_count": 42,
   "id": "d472d36b-0d79-4b11-ac7a-44f050e70e96",
   "metadata": {},
   "outputs": [
    {
     "data": {
      "text/plain": [
       "'http://images.amazon.com/images/P/034545104X.01.MZZZZZZZ.jpg'"
      ]
     },
     "execution_count": 42,
     "metadata": {},
     "output_type": "execute_result"
    }
   ],
   "source": [
    "data[\"Image-URL-M\"][0]"
   ]
  },
  {
   "cell_type": "code",
   "execution_count": 45,
   "id": "caab2d0c-a7a6-4f64-9031-70be42a84e16",
   "metadata": {},
   "outputs": [
    {
     "data": {
      "text/html": [
       "<div>\n",
       "<style scoped>\n",
       "    .dataframe tbody tr th:only-of-type {\n",
       "        vertical-align: middle;\n",
       "    }\n",
       "\n",
       "    .dataframe tbody tr th {\n",
       "        vertical-align: top;\n",
       "    }\n",
       "\n",
       "    .dataframe thead th {\n",
       "        text-align: right;\n",
       "    }\n",
       "</style>\n",
       "<table border=\"1\" class=\"dataframe\">\n",
       "  <thead>\n",
       "    <tr style=\"text-align: right;\">\n",
       "      <th></th>\n",
       "      <th>User-ID</th>\n",
       "      <th>ISBN</th>\n",
       "      <th>Book-Rating</th>\n",
       "      <th>Book-Title</th>\n",
       "      <th>Book-Author</th>\n",
       "      <th>Year-Of-Publication</th>\n",
       "      <th>Publisher</th>\n",
       "      <th>Image-URL-S</th>\n",
       "      <th>Image-URL-M</th>\n",
       "      <th>Image-URL-L</th>\n",
       "    </tr>\n",
       "  </thead>\n",
       "  <tbody>\n",
       "    <tr>\n",
       "      <th>1150</th>\n",
       "      <td>277427</td>\n",
       "      <td>002542730X</td>\n",
       "      <td>10</td>\n",
       "      <td>Politically Correct Bedtime Stories: Modern Ta...</td>\n",
       "      <td>James Finn Garner</td>\n",
       "      <td>1994</td>\n",
       "      <td>John Wiley &amp;amp; Sons Inc</td>\n",
       "      <td>http://images.amazon.com/images/P/002542730X.0...</td>\n",
       "      <td>http://images.amazon.com/images/P/002542730X.0...</td>\n",
       "      <td>http://images.amazon.com/images/P/002542730X.0...</td>\n",
       "    </tr>\n",
       "    <tr>\n",
       "      <th>1163</th>\n",
       "      <td>277427</td>\n",
       "      <td>0060930535</td>\n",
       "      <td>0</td>\n",
       "      <td>The Poisonwood Bible: A Novel</td>\n",
       "      <td>Barbara Kingsolver</td>\n",
       "      <td>1999</td>\n",
       "      <td>Perennial</td>\n",
       "      <td>http://images.amazon.com/images/P/0060930535.0...</td>\n",
       "      <td>http://images.amazon.com/images/P/0060930535.0...</td>\n",
       "      <td>http://images.amazon.com/images/P/0060930535.0...</td>\n",
       "    </tr>\n",
       "    <tr>\n",
       "      <th>1165</th>\n",
       "      <td>277427</td>\n",
       "      <td>0060934417</td>\n",
       "      <td>0</td>\n",
       "      <td>Bel Canto: A Novel</td>\n",
       "      <td>Ann Patchett</td>\n",
       "      <td>2002</td>\n",
       "      <td>Perennial</td>\n",
       "      <td>http://images.amazon.com/images/P/0060934417.0...</td>\n",
       "      <td>http://images.amazon.com/images/P/0060934417.0...</td>\n",
       "      <td>http://images.amazon.com/images/P/0060934417.0...</td>\n",
       "    </tr>\n",
       "    <tr>\n",
       "      <th>1168</th>\n",
       "      <td>277427</td>\n",
       "      <td>0061009059</td>\n",
       "      <td>9</td>\n",
       "      <td>One for the Money (Stephanie Plum Novels (Pape...</td>\n",
       "      <td>Janet Evanovich</td>\n",
       "      <td>1995</td>\n",
       "      <td>HarperTorch</td>\n",
       "      <td>http://images.amazon.com/images/P/0061009059.0...</td>\n",
       "      <td>http://images.amazon.com/images/P/0061009059.0...</td>\n",
       "      <td>http://images.amazon.com/images/P/0061009059.0...</td>\n",
       "    </tr>\n",
       "    <tr>\n",
       "      <th>1174</th>\n",
       "      <td>277427</td>\n",
       "      <td>006440188X</td>\n",
       "      <td>0</td>\n",
       "      <td>The Secret Garden</td>\n",
       "      <td>Frances Hodgson Burnett</td>\n",
       "      <td>1998</td>\n",
       "      <td>HarperTrophy</td>\n",
       "      <td>http://images.amazon.com/images/P/006440188X.0...</td>\n",
       "      <td>http://images.amazon.com/images/P/006440188X.0...</td>\n",
       "      <td>http://images.amazon.com/images/P/006440188X.0...</td>\n",
       "    </tr>\n",
       "  </tbody>\n",
       "</table>\n",
       "</div>"
      ],
      "text/plain": [
       "      User-ID        ISBN  Book-Rating  \\\n",
       "1150   277427  002542730X           10   \n",
       "1163   277427  0060930535            0   \n",
       "1165   277427  0060934417            0   \n",
       "1168   277427  0061009059            9   \n",
       "1174   277427  006440188X            0   \n",
       "\n",
       "                                             Book-Title  \\\n",
       "1150  Politically Correct Bedtime Stories: Modern Ta...   \n",
       "1163                      The Poisonwood Bible: A Novel   \n",
       "1165                                 Bel Canto: A Novel   \n",
       "1168  One for the Money (Stephanie Plum Novels (Pape...   \n",
       "1174                                  The Secret Garden   \n",
       "\n",
       "                  Book-Author Year-Of-Publication                  Publisher  \\\n",
       "1150        James Finn Garner                1994  John Wiley &amp; Sons Inc   \n",
       "1163       Barbara Kingsolver                1999                  Perennial   \n",
       "1165             Ann Patchett                2002                  Perennial   \n",
       "1168          Janet Evanovich                1995                HarperTorch   \n",
       "1174  Frances Hodgson Burnett                1998               HarperTrophy   \n",
       "\n",
       "                                            Image-URL-S  \\\n",
       "1150  http://images.amazon.com/images/P/002542730X.0...   \n",
       "1163  http://images.amazon.com/images/P/0060930535.0...   \n",
       "1165  http://images.amazon.com/images/P/0060934417.0...   \n",
       "1168  http://images.amazon.com/images/P/0061009059.0...   \n",
       "1174  http://images.amazon.com/images/P/006440188X.0...   \n",
       "\n",
       "                                            Image-URL-M  \\\n",
       "1150  http://images.amazon.com/images/P/002542730X.0...   \n",
       "1163  http://images.amazon.com/images/P/0060930535.0...   \n",
       "1165  http://images.amazon.com/images/P/0060934417.0...   \n",
       "1168  http://images.amazon.com/images/P/0061009059.0...   \n",
       "1174  http://images.amazon.com/images/P/006440188X.0...   \n",
       "\n",
       "                                            Image-URL-L  \n",
       "1150  http://images.amazon.com/images/P/002542730X.0...  \n",
       "1163  http://images.amazon.com/images/P/0060930535.0...  \n",
       "1165  http://images.amazon.com/images/P/0060934417.0...  \n",
       "1168  http://images.amazon.com/images/P/0061009059.0...  \n",
       "1174  http://images.amazon.com/images/P/006440188X.0...  "
      ]
     },
     "execution_count": 45,
     "metadata": {},
     "output_type": "execute_result"
    }
   ],
   "source": [
    "final_rating.head()"
   ]
  },
  {
   "cell_type": "code",
   "execution_count": 44,
   "id": "a5b7e0ce-8fd7-479f-9a56-3c4144a22920",
   "metadata": {},
   "outputs": [],
   "source": [
    "import pickle\n",
    "pickle.dump(final_rating,open(\"final_rating.pkl\",\"wb\"))"
   ]
  },
  {
   "cell_type": "code",
   "execution_count": 115,
   "id": "437be64b-163a-4cfc-9061-2f483d0952ca",
   "metadata": {},
   "outputs": [],
   "source": [
    "pickle.dump(pt,open(\"pt.pkl\",\"wb\"))\n",
    "pickle.dump(book,open(\"book.pkl\",\"wb\"))\n",
    "pickle.dump(similarity_score,open(\"similarity_score.pkl\",\"wb\"))"
   ]
  },
  {
   "cell_type": "code",
   "execution_count": null,
   "id": "ba81896c-3e09-4d3c-9afb-09ce30b9c1a0",
   "metadata": {},
   "outputs": [],
   "source": [
    " "
   ]
  }
 ],
 "metadata": {
  "kernelspec": {
   "display_name": "Python 3 (ipykernel)",
   "language": "python",
   "name": "python3"
  },
  "language_info": {
   "codemirror_mode": {
    "name": "ipython",
    "version": 3
   },
   "file_extension": ".py",
   "mimetype": "text/x-python",
   "name": "python",
   "nbconvert_exporter": "python",
   "pygments_lexer": "ipython3",
   "version": "3.12.7"
  }
 },
 "nbformat": 4,
 "nbformat_minor": 5
}
